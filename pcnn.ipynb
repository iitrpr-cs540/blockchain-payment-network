{
 "cells": [
  {
   "cell_type": "code",
   "execution_count": 6,
   "metadata": {},
   "outputs": [],
   "source": [
    "import networkx as nx\n",
    "import numpy as np\n",
    "\n",
    "class NodeProbabilities:\n",
    "    def __init__(self, node):\n",
    "        self.node = node\n",
    "        self.successes = {}\n",
    "\n",
    "    def chosen(self, destination):\n",
    "        if destination in self.successes:\n",
    "            self.successes[destination][\"chosen\"] += 1\n",
    "        else:\n",
    "            self.successes[destination] = {\"chosen\": 1, \"successes\": 0}\n",
    "    \n",
    "    def get_probability(self, destination):\n",
    "        if (destination in self.probabilities):\n",
    "            return self.probabilities[destination][\"successes\"] / self.probabilities[destination][\"chosen\"]\n",
    "        else:\n",
    "            return 1\n",
    "    \n",
    "    def add_successes(self, destination):\n",
    "        self.successes[destination][\"successes\"] += 1\n",
    "\n",
    "class PCNN:\n",
    "    G = None\n",
    "    node_probabilities = {}\n",
    "\n",
    "    def __init__(self):\n",
    "        self.G = G = nx.DiGraph()\n",
    "        self.payment_channels = {}\n",
    "\n",
    "    def add_payment_channel(self, source, destination, deposit):\n",
    "        channel_id = \"-\".join(sorted([source, destination]))\n",
    "        print(\"Adding channel\", channel_id)\n",
    "        if channel_id in self.payment_channels:\n",
    "            print(\"Channel already exists\")\n",
    "            return\n",
    "        self.payment_channels[channel_id] = {\n",
    "            source: deposit,\n",
    "            destination: deposit\n",
    "        }\n",
    "        self.G.add_edge(destination, source)\n",
    "        self.G.add_edge(source, destination)\n",
    "\n",
    "        self.node_probabilities[source] = NodeProbabilities(source)\n",
    "        self.node_probabilities[destination] = NodeProbabilities(destination)"
   ]
  },
  {
   "cell_type": "code",
   "execution_count": 8,
   "metadata": {},
   "outputs": [
    {
     "name": "stdout",
     "output_type": "stream",
     "text": [
      "Adding channel A-B\n",
      "Adding channel A-B\n",
      "Channel already exists\n"
     ]
    }
   ],
   "source": [
    "graph = PCNN()\n",
    "graph.add_payment_channel('A', 'B', deposit=10)\n",
    "graph.add_payment_channel('B', 'A', deposit=10)\n",
    "\n",
    "# graph.add_payment_channel('B', 'C', balance=10, success_probability=0.5, preimage=None)\n",
    "# graph.add_payment_channel('C', 'B', balance=10, success_probability=0.3, preimage=None)\n",
    "\n",
    "# graph.add_payment_channel('C', 'D', balance=10, success_probability=0.8, preimage=None) \n",
    "# graph.add_payment_channel('D', 'C', balance=10, success_probability=0.3, preimage=None)"
   ]
  },
  {
   "cell_type": "code",
   "execution_count": 14,
   "metadata": {},
   "outputs": [
    {
     "data": {
      "text/plain": [
       "['B']"
      ]
     },
     "execution_count": 14,
     "metadata": {},
     "output_type": "execute_result"
    }
   ],
   "source": []
  }
 ],
 "metadata": {
  "kernelspec": {
   "display_name": "env",
   "language": "python",
   "name": "python3"
  },
  "language_info": {
   "codemirror_mode": {
    "name": "ipython",
    "version": 3
   },
   "file_extension": ".py",
   "mimetype": "text/x-python",
   "name": "python",
   "nbconvert_exporter": "python",
   "pygments_lexer": "ipython3",
   "version": "3.12.2"
  }
 },
 "nbformat": 4,
 "nbformat_minor": 2
}
